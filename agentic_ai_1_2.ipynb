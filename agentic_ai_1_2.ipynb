{
  "nbformat": 4,
  "nbformat_minor": 0,
  "metadata": {
    "colab": {
      "provenance": []
    },
    "kernelspec": {
      "name": "python3",
      "display_name": "Python 3"
    },
    "language_info": {
      "name": "python"
    }
  },
  "cells": [
    {
      "cell_type": "markdown",
      "source": [
        "# Module 1 - Langchain Core\n",
        "## 1.2  Input,Output,Prompt Engineering\n",
        "\n",
        "\n",
        "> Goals\n",
        "  1.   To format inputs and outputs-how agents and chains talk\n",
        "  2.   How to format conversation for clarity"
      ],
      "metadata": {
        "id": "i3f_RdTLVV_E"
      }
    },
    {
      "cell_type": "markdown",
      "source": [
        "Consider we are building a multi-agent or multi-chain system. And output of one agent is input of another. Now we want output of first agent in a specific format. So we have to use our prompt in specific format using ```ResponseSchema``` and ```StructuredOutputParser```.\n",
        "\n",
        "So we will build a 3 mini agent to apply these things-\n",
        "1. Tracker Agent :\n",
        "\n",
        "    Input: user says their LMP (last menstrual period)\n",
        "\n",
        "    Output: {weeks_pregnant: int, trimester: str}\n",
        "\n",
        "2. Weekly Info Agent :\n",
        "\n",
        "    Input: number of weeks\n",
        "\n",
        "    Output: {baby_development: str, maternal_tip: str}\n",
        "\n",
        "    Use partial() to lock role as \"pregnancy educator\"\n",
        "\n",
        "3. Symptom Agent :\n",
        "\n",
        "    Input: a symptom\n",
        "\n",
        "    Output: {advice: str, warning: str}\n",
        "\n",
        "    Use structured output parsing.\n",
        "\n",
        "So we will use ```partial()```,```ResponseSchema``` and ```StructuredOutputParser``` to build such a chain."
      ],
      "metadata": {
        "id": "YdMcmBi4XXSq"
      }
    },
    {
      "cell_type": "code",
      "source": [
        "pip install -qU \"langchain[groq]\""
      ],
      "metadata": {
        "id": "N1cK2EOpm4Ih",
        "colab": {
          "base_uri": "https://localhost:8080/"
        },
        "outputId": "38458d4a-8e3f-4780-face-c84a3342f46c"
      },
      "execution_count": 1,
      "outputs": [
        {
          "output_type": "stream",
          "name": "stdout",
          "text": [
            "\u001b[?25l   \u001b[90m━━━━━━━━━━━━━━━━━━━━━━━━━━━━━━━━━━━━━━━━\u001b[0m \u001b[32m0.0/130.2 kB\u001b[0m \u001b[31m?\u001b[0m eta \u001b[36m-:--:--\u001b[0m\r\u001b[2K   \u001b[91m━━━━━━━━━━━━━━━━━━━━━━━━━━━━━━━━━━━━━\u001b[0m\u001b[91m╸\u001b[0m\u001b[90m━━\u001b[0m \u001b[32m122.9/130.2 kB\u001b[0m \u001b[31m3.4 MB/s\u001b[0m eta \u001b[36m0:00:01\u001b[0m\r\u001b[2K   \u001b[90m━━━━━━━━━━━━━━━━━━━━━━━━━━━━━━━━━━━━━━━━\u001b[0m \u001b[32m130.2/130.2 kB\u001b[0m \u001b[31m2.4 MB/s\u001b[0m eta \u001b[36m0:00:00\u001b[0m\n",
            "\u001b[?25h"
          ]
        }
      ]
    },
    {
      "cell_type": "code",
      "source": [
        "# Setting up environment\n",
        "import getpass\n",
        "import os\n",
        "\n",
        "if not os.environ.get(\"GROQ_API_KEY\"):\n",
        "  os.environ[\"GROQ_API_KEY\"] = getpass.getpass(\"Your API Key:\")"
      ],
      "metadata": {
        "colab": {
          "base_uri": "https://localhost:8080/"
        },
        "id": "A7aYg3Q9nTMw",
        "outputId": "9197c193-7726-4a04-fd48-28841162256f"
      },
      "execution_count": 2,
      "outputs": [
        {
          "name": "stdout",
          "output_type": "stream",
          "text": [
            "Your API Key:··········\n"
          ]
        }
      ]
    },
    {
      "cell_type": "code",
      "source": [
        "# necessary imports\n",
        "from langchain_core.runnables import RunnableLambda,RunnableBranch\n",
        "from langchain.chat_models import init_chat_model\n",
        "from langchain_core.prompts import ChatPromptTemplate\n",
        "from langchain_core.output_parsers import StrOutputParser\n",
        "from langchain.output_parsers import StructuredOutputParser,ResponseSchema\n",
        "from datetime import datetime\n",
        "\n",
        "# model initialisation\n",
        "det_model = init_chat_model(\"llama3-8b-8192\", model_provider=\"groq\",temperature = 0)\n",
        "model = init_chat_model(\"llama3-8b-8192\", model_provider=\"groq\")\n",
        "\n",
        "# calculating gestation weeks\n",
        "def gestation_weeks(input : dict , today_str=None):\n",
        "\n",
        "  if today_str is None:\n",
        "    today = datetime.now()\n",
        "  else:\n",
        "    today = datetime.strptime(today_str,\"%d%m%Y\")\n",
        "\n",
        "  try:\n",
        "    lmp_date = input[\"date\"]\n",
        "    lmp_date = datetime.strptime(lmp_date,\"%d%m%Y\")\n",
        "    if lmp_date > today:\n",
        "        return {\"error\": \"LMP date is in the future.\"}\n",
        "    diff = today - lmp_date\n",
        "    weeks = diff.days // 7\n",
        "    return {\"weeks\": weeks}\n",
        "  except ValueError:\n",
        "    return {\"error\": \"Invalid date format.\"}\n",
        "\n",
        "gst_weeks = RunnableLambda(gestation_weeks)\n",
        "\n",
        "# creating tracker_chain\n",
        "schemas_1 = [\n",
        "    ResponseSchema(name='weeks', description=\"number of weeks\"),\n",
        "    ResponseSchema(name='trimester', description=\"Trimester based on number of weeks\")\n",
        "]\n",
        "\n",
        "parser_1 = StructuredOutputParser.from_response_schemas(schemas_1)\n",
        "format_1 = parser_1.get_format_instructions()\n",
        "\n",
        "trimester_prompt = ChatPromptTemplate.from_template(\"\"\"\n",
        "You are a medical assistant.\n",
        "Decide the pregnancy trimester based on weeks.\n",
        "\n",
        "Logics:\n",
        "- First trimester: 0–13 weeks\n",
        "- Second trimester: 14–27 weeks\n",
        "- Third trimester: 28+ weeks\n",
        "\n",
        "{format_instructions}\n",
        "\n",
        "Example:\n",
        "Weeks: 21\n",
        "Output: {{\"trimester\": \"second\"}}\n",
        "\n",
        "Now, classify:\n",
        "Weeks: {weeks}\n",
        "\"\"\").partial(format_instructions=format_1)\n",
        "\n",
        "tracker_chain = gst_weeks | trimester_prompt | det_model | parser_1\n",
        "# tracker_chain is working perfectly\n",
        "\n",
        "# Weekly info agent\n",
        "schemas_2 = [\n",
        "    ResponseSchema(name='baby_development_stage', description=\"baby developement based on weeks\"),\n",
        "    ResponseSchema(name='maternity_tip', description=\"tips for mother\")\n",
        "]\n",
        "\n",
        "parser_2 = StructuredOutputParser.from_response_schemas(schemas_2)\n",
        "format_2 = parser_2.get_format_instructions()\n",
        "\n",
        "information_prompt = ChatPromptTemplate.from_template(\"\"\"\n",
        "you are obstetrician-gynecologist.\n",
        "Give necessary information about developement of baby and tips and advice for mother based on number of weeks of pregnancy.\n",
        "\n",
        "{format_instructions}\n",
        "Now Weeks: {weeks}\n",
        "\"\"\").partial(format_instructions=format_2)\n",
        "\n",
        "information_chain = information_prompt | model | parser_2\n",
        "# creating link between them\n",
        "chain = tracker_chain | information_chain\n",
        "\n",
        "# weekly info agent is working properly\n",
        "\n",
        "# symptom agent\n",
        "schemas_3 = [\n",
        "    ResponseSchema(name='advice', description=\"advice based on symptoms\"),\n",
        "    ResponseSchema(name='warning', description=\"warning based on symptoms\")\n",
        "]\n",
        "\n",
        "parser_3 = StructuredOutputParser.from_response_schemas(schemas_3)\n",
        "format_3 = parser_3.get_format_instructions()\n",
        "\n",
        "symptom_prompt = ChatPromptTemplate.from_template(\"\"\"\n",
        "You are a gynecologist.\n",
        "Give necessary,reliable and safe advice and warning based on symptoms.\n",
        "\n",
        "{format_instructions}\n",
        "Now symptoms: {symptoms}\n",
        "\"\"\").partial(format_instructions=format_3)\n",
        "\n",
        "symptom_chain = symptom_prompt | model | parser_3\n"
      ],
      "metadata": {
        "id": "-S-4VL9BU6zJ"
      },
      "execution_count": 9,
      "outputs": []
    },
    {
      "cell_type": "code",
      "source": [
        "result = chain.invoke({\"date\": \"23022025\"})\n",
        "print(\"Information about baby in this stage:\")\n",
        "print(result[\"baby_development_stage\"])\n",
        "print(\"Tips for mother:\")\n",
        "print(result[\"maternity_tip\"])\n",
        "\n",
        "# checking for symptom\n",
        "user_input = input(\"Do you have any symptom? (yes/no): \")\n",
        "if user_input.lower() == \"yes\":\n",
        "  symptom = input(\"Give your symptoms: \")\n",
        "  symptom_result = symptom_chain.invoke({\"symptoms\" : symptom})\n",
        "\n",
        "  print(\"Advice:\")\n",
        "  print(symptom_result[\"advice\"])\n",
        "  print(\"Warning:\")\n",
        "  print(symptom_result[\"warning\"])\n",
        "\n",
        "else:\n",
        "  print(\"Thank you,very much. Have a safe day.\")"
      ],
      "metadata": {
        "colab": {
          "base_uri": "https://localhost:8080/"
        },
        "id": "JOfzRDIDorgl",
        "outputId": "8321235a-2b05-4322-baf2-5ed935cb99a8"
      },
      "execution_count": 17,
      "outputs": [
        {
          "output_type": "stream",
          "name": "stdout",
          "text": [
            "Information about baby in this stage:\n",
            "The embryo's major organs and body systems are forming. The heart is pumping blood through its chambers, and the lungs are starting to produce surfactant, a substance that helps them expand and contract properly after birth. The baby's nervous system is also developing, and its brain is producing essential neurotransmitters.\n",
            "Tips for mother:\n",
            "At 16 weeks, it's essential to maintain a healthy diet rich in essential nutrients. Include foods high in folic acid, iron, and calcium in your meals. Also, try to stay hydrated by drinking plenty of water throughout the day. As your belly grows, make sure to wear comfortable clothing and take regular breaks to rest your back.\n",
            "Do you have any symptom? (yes/no): yes\n",
            "Give your symptoms: leg ache\n",
            "Advice:\n",
            "If you're experiencing leg ache, it's possible that it may be related to your menstrual cycle or hormonal changes. I recommend keeping a symptom journal to track when the ache occurs and its severity. In the meantime, consider taking over-the-counter pain relief medication such as ibuprofen or acetaminophen to help alleviate the discomfort. If the ache is severe, persistent, or accompanied by other symptoms such as heavy bleeding, fever, or difficulty walking, please schedule an appointment with me to rule out any underlying conditions.\n",
            "Warning:\n",
            "While leg ache is a common symptom during menstruation, it's essential to be aware of any unusual or severe symptoms that may indicate an underlying condition such as endometriosis, pelvic inflammatory disease, or blood clots. If you experience any of the following, seek immediate medical attention: severe leg pain, swelling, or difficulty moving your leg, or sudden onset of severe abdominal pain. These symptoms can be a sign of a more serious condition that requires prompt medical attention.\n"
          ]
        }
      ]
    }
  ]
}
